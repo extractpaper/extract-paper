{
  "cells": [
    {
      "cell_type": "code",
      "execution_count": 33,
      "metadata": {
        "colab": {
          "base_uri": "https://localhost:8080/"
        },
        "id": "rmcBSpxBLn9s",
        "outputId": "7ae5ec16-d8dd-4a76-d3f0-de54d77de2ce"
      },
      "outputs": [
        {
          "name": "stdout",
          "output_type": "stream",
          "text": [
            "Requirement already satisfied: grobid-client-python in /usr/local/lib/python3.10/dist-packages (0.0.8)\n",
            "Requirement already satisfied: requests in /usr/local/lib/python3.10/dist-packages (from grobid-client-python) (2.31.0)\n",
            "Requirement already satisfied: charset-normalizer<4,>=2 in /usr/local/lib/python3.10/dist-packages (from requests->grobid-client-python) (3.3.2)\n",
            "Requirement already satisfied: idna<4,>=2.5 in /usr/local/lib/python3.10/dist-packages (from requests->grobid-client-python) (3.7)\n",
            "Requirement already satisfied: urllib3<3,>=1.21.1 in /usr/local/lib/python3.10/dist-packages (from requests->grobid-client-python) (2.0.7)\n",
            "Requirement already satisfied: certifi>=2017.4.17 in /usr/local/lib/python3.10/dist-packages (from requests->grobid-client-python) (2024.2.2)\n"
          ]
        }
      ],
      "source": [
        "!pip install grobid-client-python\n",
        "from grobid_client.grobid_client import GrobidClient\n",
        "import os\n",
        "\n"
      ]
    },
    {
      "cell_type": "code",
      "execution_count": 34,
      "metadata": {},
      "outputs": [
        {
          "name": "stdout",
          "output_type": "stream",
          "text": [
            "http://grobid:8070\n"
          ]
        }
      ],
      "source": [
        "grobidClient = \"http://localhost:8070\"\n",
        "inputDir = \"ALLPDF\"\n",
        "outputDir = \"TEI\"\n",
        "\n",
        "if os.getenv('FLAG_EXTRACT_PAPER_IS_DOCKER') is not None:\n",
        "    grobidClient = \"http://grobid:8070\"\n",
        "    inputDir = \"ALLPDF\"\n",
        "    outputDir = \"TEI\"\n",
        "print(grobidClient)"
      ]
    },
    {
      "cell_type": "code",
      "execution_count": 35,
      "metadata": {
        "id": "NfBC0FUHRXN5"
      },
      "outputs": [
        {
          "name": "stdout",
          "output_type": "stream",
          "text": [
            "\n",
            "{\n",
            "    \"grobid_server\": \"http://grobid:8070\",\n",
            "    \"batch_size\": 1000,\n",
            "    \"sleep_time\": 5,\n",
            "    \"timeout\": 60000,\n",
            "    \"coordinates\": [ \"persName\", \"figure\", \"ref\", \"biblStruct\", \"formula\", \"s\" ]\n",
            "}\n",
            "\n"
          ]
        }
      ],
      "source": [
        "configFile = open(\"./config.json\", \"w\")\n",
        "configText = '''\n",
        "{\n",
        "    \"grobid_server\": \"''' + grobidClient + '''\",\n",
        "    \"batch_size\": 1000,\n",
        "    \"sleep_time\": 5,\n",
        "    \"timeout\": 60000,\n",
        "    \"coordinates\": [ \"persName\", \"figure\", \"ref\", \"biblStruct\", \"formula\", \"s\" ]\n",
        "}\n",
        "'''\n",
        "print(configText)\n",
        "configFile.write(configText)\n",
        "configFile.close()"
      ]
    },
    {
      "cell_type": "code",
      "execution_count": 36,
      "metadata": {
        "colab": {
          "base_uri": "https://localhost:8080/"
        },
        "id": "Ed4JFGt1Rhlu",
        "outputId": "11e81536-850e-4cd8-9d05-a21accddee34"
      },
      "outputs": [
        {
          "name": "stdout",
          "output_type": "stream",
          "text": [
            "GROBID server is up and running\n"
          ]
        }
      ],
      "source": [
        "client = GrobidClient(config_path=\"./config.json\")\n",
        "client.process(\"processFulltextDocument\", inputDir, n=1, output=outputDir)"
      ]
    }
  ],
  "metadata": {
    "colab": {
      "provenance": []
    },
    "kernelspec": {
      "display_name": "Python 3",
      "language": "python",
      "name": "python3"
    }
  },
  "nbformat": 4,
  "nbformat_minor": 0
}
